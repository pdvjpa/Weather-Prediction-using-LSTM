{
  "nbformat": 4,
  "nbformat_minor": 0,
  "metadata": {
    "colab": {
      "provenance": []
    },
    "kernelspec": {
      "name": "python3",
      "display_name": "Python 3"
    },
    "language_info": {
      "name": "python"
    }
  },
  "cells": [
    {
      "cell_type": "code",
      "execution_count": null,
      "metadata": {
        "id": "clX7gRttU22f"
      },
      "outputs": [],
      "source": [
        "import numpy as np\n",
        "from keras.models import Sequential\n",
        "from keras.layers import LSTM, Dense, Dropout\n",
        "import pandas as pd\n",
        "from matplotlib import pyplot as plt\n",
        "from sklearn.preprocessing import StandardScaler\n",
        "import seaborn as sns\n",
        "import requests, json\n",
        "import datetime\n",
        "import pytz\n",
        "import csv\n",
        "import time\n"
      ]
    },
    {
      "cell_type": "code",
      "source": [
        "\n",
        "apiKey = \"0bb972aaf00b7dddb4a72d5aed9e8ae9\"\n",
        "baseURL = \"https://api.openweathermap.org/data/2.5/weather?q=\"\n",
        "cityName = \"gwalior\"\n",
        "completeURL = baseURL + cityName + \"&appid=\" +apiKey\n",
        "response = requests.get(completeURL)\n",
        "data = response.json()\n",
        "with open(\"rainfalldata_5.csv\",\"w\",newline=\"\")as f:\n",
        "   data_=csv.writer(f)\n",
        "   header = [\"Time\",\"weather\",\"temperature\",\"humidity\",\"wind_pressure\",\"wind_speed\",\"wind_direction\"]\n",
        "   Time = datetime.datetime.now(pytz.timezone('Asia/Kolkata'))\n",
        "   weather=data[\"weather\"][0][\"id\"]\n",
        "   temperature=data[\"main\"][\"temp\"]\n",
        "   humidity=data[\"main\"][\"humidity\"]\n",
        "   wind_pressure=data[\"main\"][\"pressure\"]\n",
        "   wind_speed=data[\"wind\"][\"speed\"]\n",
        "   wind_direction=data[\"wind\"][\"deg\"]\n",
        "   data_.writerow(header)\n",
        "   data_.writerow([Time,weather,temperature,humidity,wind_pressure,wind_speed,wind_direction])\n",
        "\n"
      ],
      "metadata": {
        "id": "d9SeEdBfXjly"
      },
      "execution_count": null,
      "outputs": []
    },
    {
      "cell_type": "code",
      "source": [
        "\n",
        "current_time = datetime.datetime.now(pytz.timezone('Asia/Kolkata'))\n",
        "print(current_time)\n",
        "\n"
      ],
      "metadata": {
        "colab": {
          "base_uri": "https://localhost:8080/"
        },
        "id": "zk5RyT1vjw2r",
        "outputId": "d21b7e52-1af2-4bef-ab8b-292163324342"
      },
      "execution_count": null,
      "outputs": [
        {
          "output_type": "stream",
          "name": "stdout",
          "text": [
            "2023-10-31 22:21:21.652384+05:30\n"
          ]
        }
      ]
    },
    {
      "cell_type": "code",
      "source": [
        "def data_set():\n",
        "   with open(\"rainfalldata_5.csv\",\"a\",newline=\"\")as f:\n",
        "        data_=csv.writer(f)\n",
        "        Time = datetime.datetime.now(pytz.timezone('Asia/Kolkata'))\n",
        "        weather=data[\"weather\"][0][\"id\"]\n",
        "        temperature=data[\"main\"][\"temp\"]\n",
        "        humidity=data[\"main\"][\"humidity\"]\n",
        "        wind_pressure=data[\"main\"][\"pressure\"]\n",
        "        wind_speed=data[\"wind\"][\"speed\"]\n",
        "        wind_direction=data[\"wind\"][\"deg\"]\n",
        "        data_.writerow([Time,weather,temperature,humidity,wind_pressure,wind_speed,wind_direction])"
      ],
      "metadata": {
        "id": "QaHtzkwH58pX"
      },
      "execution_count": null,
      "outputs": []
    },
    {
      "cell_type": "code",
      "source": [
        "while(True):\n",
        "    data_set()\n",
        "    time.sleep(1)"
      ],
      "metadata": {
        "id": "5UIIzW77_2qi",
        "colab": {
          "base_uri": "https://localhost:8080/",
          "height": 210
        },
        "outputId": "87d305e3-f9d2-4fec-bda6-193e7e1ae4b9"
      },
      "execution_count": null,
      "outputs": [
        {
          "output_type": "error",
          "ename": "KeyboardInterrupt",
          "evalue": "ignored",
          "traceback": [
            "\u001b[0;31m---------------------------------------------------------------------------\u001b[0m",
            "\u001b[0;31mKeyboardInterrupt\u001b[0m                         Traceback (most recent call last)",
            "\u001b[0;32m<ipython-input-9-a1a8627afff7>\u001b[0m in \u001b[0;36m<cell line: 1>\u001b[0;34m()\u001b[0m\n\u001b[1;32m      1\u001b[0m \u001b[0;32mwhile\u001b[0m\u001b[0;34m(\u001b[0m\u001b[0;32mTrue\u001b[0m\u001b[0;34m)\u001b[0m\u001b[0;34m:\u001b[0m\u001b[0;34m\u001b[0m\u001b[0;34m\u001b[0m\u001b[0m\n\u001b[1;32m      2\u001b[0m     \u001b[0mdata_set\u001b[0m\u001b[0;34m(\u001b[0m\u001b[0;34m)\u001b[0m\u001b[0;34m\u001b[0m\u001b[0;34m\u001b[0m\u001b[0m\n\u001b[0;32m----> 3\u001b[0;31m     \u001b[0mtime\u001b[0m\u001b[0;34m.\u001b[0m\u001b[0msleep\u001b[0m\u001b[0;34m(\u001b[0m\u001b[0;36m1\u001b[0m\u001b[0;34m)\u001b[0m\u001b[0;34m\u001b[0m\u001b[0;34m\u001b[0m\u001b[0m\n\u001b[0m",
            "\u001b[0;31mKeyboardInterrupt\u001b[0m: "
          ]
        }
      ]
    },
    {
      "cell_type": "code",
      "source": [
        "df=pd.read_csv('rainfalldata_5.csv')"
      ],
      "metadata": {
        "id": "vNV6Z_dgDpER"
      },
      "execution_count": null,
      "outputs": []
    },
    {
      "cell_type": "code",
      "source": [
        "df"
      ],
      "metadata": {
        "colab": {
          "base_uri": "https://localhost:8080/",
          "height": 423
        },
        "id": "F4Azto2tDyOQ",
        "outputId": "70b60e44-4fda-43c3-e3e8-7055edc11b50"
      },
      "execution_count": null,
      "outputs": [
        {
          "output_type": "execute_result",
          "data": {
            "text/plain": [
              "                                 Time  weather  temperature  humidity  \\\n",
              "0    2023-10-31 22:21:16.756518+05:30      804       297.58        41   \n",
              "1    2023-10-31 22:21:31.690950+05:30      804       297.58        41   \n",
              "2    2023-10-31 22:21:32.692491+05:30      804       297.58        41   \n",
              "3    2023-10-31 22:21:33.693784+05:30      804       297.58        41   \n",
              "4    2023-10-31 22:21:34.695294+05:30      804       297.58        41   \n",
              "..                                ...      ...          ...       ...   \n",
              "129  2023-10-31 22:23:53.092133+05:30      804       297.58        41   \n",
              "130  2023-10-31 22:23:54.092771+05:30      804       297.58        41   \n",
              "131  2023-10-31 22:23:55.093773+05:30      804       297.58        41   \n",
              "132  2023-10-31 22:23:56.094791+05:30      804       297.58        41   \n",
              "133  2023-10-31 22:23:57.095785+05:30      804       297.58        41   \n",
              "\n",
              "     wind_pressure  wind_speed  wind_direction  \n",
              "0             1015        1.48             100  \n",
              "1             1015        1.48             100  \n",
              "2             1015        1.48             100  \n",
              "3             1015        1.48             100  \n",
              "4             1015        1.48             100  \n",
              "..             ...         ...             ...  \n",
              "129           1015        1.48             100  \n",
              "130           1015        1.48             100  \n",
              "131           1015        1.48             100  \n",
              "132           1015        1.48             100  \n",
              "133           1015        1.48             100  \n",
              "\n",
              "[134 rows x 7 columns]"
            ],
            "text/html": [
              "\n",
              "  <div id=\"df-36b2cef7-859e-4f31-985f-5b3f9fbd3b3d\" class=\"colab-df-container\">\n",
              "    <div>\n",
              "<style scoped>\n",
              "    .dataframe tbody tr th:only-of-type {\n",
              "        vertical-align: middle;\n",
              "    }\n",
              "\n",
              "    .dataframe tbody tr th {\n",
              "        vertical-align: top;\n",
              "    }\n",
              "\n",
              "    .dataframe thead th {\n",
              "        text-align: right;\n",
              "    }\n",
              "</style>\n",
              "<table border=\"1\" class=\"dataframe\">\n",
              "  <thead>\n",
              "    <tr style=\"text-align: right;\">\n",
              "      <th></th>\n",
              "      <th>Time</th>\n",
              "      <th>weather</th>\n",
              "      <th>temperature</th>\n",
              "      <th>humidity</th>\n",
              "      <th>wind_pressure</th>\n",
              "      <th>wind_speed</th>\n",
              "      <th>wind_direction</th>\n",
              "    </tr>\n",
              "  </thead>\n",
              "  <tbody>\n",
              "    <tr>\n",
              "      <th>0</th>\n",
              "      <td>2023-10-31 22:21:16.756518+05:30</td>\n",
              "      <td>804</td>\n",
              "      <td>297.58</td>\n",
              "      <td>41</td>\n",
              "      <td>1015</td>\n",
              "      <td>1.48</td>\n",
              "      <td>100</td>\n",
              "    </tr>\n",
              "    <tr>\n",
              "      <th>1</th>\n",
              "      <td>2023-10-31 22:21:31.690950+05:30</td>\n",
              "      <td>804</td>\n",
              "      <td>297.58</td>\n",
              "      <td>41</td>\n",
              "      <td>1015</td>\n",
              "      <td>1.48</td>\n",
              "      <td>100</td>\n",
              "    </tr>\n",
              "    <tr>\n",
              "      <th>2</th>\n",
              "      <td>2023-10-31 22:21:32.692491+05:30</td>\n",
              "      <td>804</td>\n",
              "      <td>297.58</td>\n",
              "      <td>41</td>\n",
              "      <td>1015</td>\n",
              "      <td>1.48</td>\n",
              "      <td>100</td>\n",
              "    </tr>\n",
              "    <tr>\n",
              "      <th>3</th>\n",
              "      <td>2023-10-31 22:21:33.693784+05:30</td>\n",
              "      <td>804</td>\n",
              "      <td>297.58</td>\n",
              "      <td>41</td>\n",
              "      <td>1015</td>\n",
              "      <td>1.48</td>\n",
              "      <td>100</td>\n",
              "    </tr>\n",
              "    <tr>\n",
              "      <th>4</th>\n",
              "      <td>2023-10-31 22:21:34.695294+05:30</td>\n",
              "      <td>804</td>\n",
              "      <td>297.58</td>\n",
              "      <td>41</td>\n",
              "      <td>1015</td>\n",
              "      <td>1.48</td>\n",
              "      <td>100</td>\n",
              "    </tr>\n",
              "    <tr>\n",
              "      <th>...</th>\n",
              "      <td>...</td>\n",
              "      <td>...</td>\n",
              "      <td>...</td>\n",
              "      <td>...</td>\n",
              "      <td>...</td>\n",
              "      <td>...</td>\n",
              "      <td>...</td>\n",
              "    </tr>\n",
              "    <tr>\n",
              "      <th>129</th>\n",
              "      <td>2023-10-31 22:23:53.092133+05:30</td>\n",
              "      <td>804</td>\n",
              "      <td>297.58</td>\n",
              "      <td>41</td>\n",
              "      <td>1015</td>\n",
              "      <td>1.48</td>\n",
              "      <td>100</td>\n",
              "    </tr>\n",
              "    <tr>\n",
              "      <th>130</th>\n",
              "      <td>2023-10-31 22:23:54.092771+05:30</td>\n",
              "      <td>804</td>\n",
              "      <td>297.58</td>\n",
              "      <td>41</td>\n",
              "      <td>1015</td>\n",
              "      <td>1.48</td>\n",
              "      <td>100</td>\n",
              "    </tr>\n",
              "    <tr>\n",
              "      <th>131</th>\n",
              "      <td>2023-10-31 22:23:55.093773+05:30</td>\n",
              "      <td>804</td>\n",
              "      <td>297.58</td>\n",
              "      <td>41</td>\n",
              "      <td>1015</td>\n",
              "      <td>1.48</td>\n",
              "      <td>100</td>\n",
              "    </tr>\n",
              "    <tr>\n",
              "      <th>132</th>\n",
              "      <td>2023-10-31 22:23:56.094791+05:30</td>\n",
              "      <td>804</td>\n",
              "      <td>297.58</td>\n",
              "      <td>41</td>\n",
              "      <td>1015</td>\n",
              "      <td>1.48</td>\n",
              "      <td>100</td>\n",
              "    </tr>\n",
              "    <tr>\n",
              "      <th>133</th>\n",
              "      <td>2023-10-31 22:23:57.095785+05:30</td>\n",
              "      <td>804</td>\n",
              "      <td>297.58</td>\n",
              "      <td>41</td>\n",
              "      <td>1015</td>\n",
              "      <td>1.48</td>\n",
              "      <td>100</td>\n",
              "    </tr>\n",
              "  </tbody>\n",
              "</table>\n",
              "<p>134 rows × 7 columns</p>\n",
              "</div>\n",
              "    <div class=\"colab-df-buttons\">\n",
              "\n",
              "  <div class=\"colab-df-container\">\n",
              "    <button class=\"colab-df-convert\" onclick=\"convertToInteractive('df-36b2cef7-859e-4f31-985f-5b3f9fbd3b3d')\"\n",
              "            title=\"Convert this dataframe to an interactive table.\"\n",
              "            style=\"display:none;\">\n",
              "\n",
              "  <svg xmlns=\"http://www.w3.org/2000/svg\" height=\"24px\" viewBox=\"0 -960 960 960\">\n",
              "    <path d=\"M120-120v-720h720v720H120Zm60-500h600v-160H180v160Zm220 220h160v-160H400v160Zm0 220h160v-160H400v160ZM180-400h160v-160H180v160Zm440 0h160v-160H620v160ZM180-180h160v-160H180v160Zm440 0h160v-160H620v160Z\"/>\n",
              "  </svg>\n",
              "    </button>\n",
              "\n",
              "  <style>\n",
              "    .colab-df-container {\n",
              "      display:flex;\n",
              "      gap: 12px;\n",
              "    }\n",
              "\n",
              "    .colab-df-convert {\n",
              "      background-color: #E8F0FE;\n",
              "      border: none;\n",
              "      border-radius: 50%;\n",
              "      cursor: pointer;\n",
              "      display: none;\n",
              "      fill: #1967D2;\n",
              "      height: 32px;\n",
              "      padding: 0 0 0 0;\n",
              "      width: 32px;\n",
              "    }\n",
              "\n",
              "    .colab-df-convert:hover {\n",
              "      background-color: #E2EBFA;\n",
              "      box-shadow: 0px 1px 2px rgba(60, 64, 67, 0.3), 0px 1px 3px 1px rgba(60, 64, 67, 0.15);\n",
              "      fill: #174EA6;\n",
              "    }\n",
              "\n",
              "    .colab-df-buttons div {\n",
              "      margin-bottom: 4px;\n",
              "    }\n",
              "\n",
              "    [theme=dark] .colab-df-convert {\n",
              "      background-color: #3B4455;\n",
              "      fill: #D2E3FC;\n",
              "    }\n",
              "\n",
              "    [theme=dark] .colab-df-convert:hover {\n",
              "      background-color: #434B5C;\n",
              "      box-shadow: 0px 1px 3px 1px rgba(0, 0, 0, 0.15);\n",
              "      filter: drop-shadow(0px 1px 2px rgba(0, 0, 0, 0.3));\n",
              "      fill: #FFFFFF;\n",
              "    }\n",
              "  </style>\n",
              "\n",
              "    <script>\n",
              "      const buttonEl =\n",
              "        document.querySelector('#df-36b2cef7-859e-4f31-985f-5b3f9fbd3b3d button.colab-df-convert');\n",
              "      buttonEl.style.display =\n",
              "        google.colab.kernel.accessAllowed ? 'block' : 'none';\n",
              "\n",
              "      async function convertToInteractive(key) {\n",
              "        const element = document.querySelector('#df-36b2cef7-859e-4f31-985f-5b3f9fbd3b3d');\n",
              "        const dataTable =\n",
              "          await google.colab.kernel.invokeFunction('convertToInteractive',\n",
              "                                                    [key], {});\n",
              "        if (!dataTable) return;\n",
              "\n",
              "        const docLinkHtml = 'Like what you see? Visit the ' +\n",
              "          '<a target=\"_blank\" href=https://colab.research.google.com/notebooks/data_table.ipynb>data table notebook</a>'\n",
              "          + ' to learn more about interactive tables.';\n",
              "        element.innerHTML = '';\n",
              "        dataTable['output_type'] = 'display_data';\n",
              "        await google.colab.output.renderOutput(dataTable, element);\n",
              "        const docLink = document.createElement('div');\n",
              "        docLink.innerHTML = docLinkHtml;\n",
              "        element.appendChild(docLink);\n",
              "      }\n",
              "    </script>\n",
              "  </div>\n",
              "\n",
              "\n",
              "<div id=\"df-f5192362-8a91-4bd8-ac26-d5fedd724ef9\">\n",
              "  <button class=\"colab-df-quickchart\" onclick=\"quickchart('df-f5192362-8a91-4bd8-ac26-d5fedd724ef9')\"\n",
              "            title=\"Suggest charts.\"\n",
              "            style=\"display:none;\">\n",
              "\n",
              "<svg xmlns=\"http://www.w3.org/2000/svg\" height=\"24px\"viewBox=\"0 0 24 24\"\n",
              "     width=\"24px\">\n",
              "    <g>\n",
              "        <path d=\"M19 3H5c-1.1 0-2 .9-2 2v14c0 1.1.9 2 2 2h14c1.1 0 2-.9 2-2V5c0-1.1-.9-2-2-2zM9 17H7v-7h2v7zm4 0h-2V7h2v10zm4 0h-2v-4h2v4z\"/>\n",
              "    </g>\n",
              "</svg>\n",
              "  </button>\n",
              "\n",
              "<style>\n",
              "  .colab-df-quickchart {\n",
              "      --bg-color: #E8F0FE;\n",
              "      --fill-color: #1967D2;\n",
              "      --hover-bg-color: #E2EBFA;\n",
              "      --hover-fill-color: #174EA6;\n",
              "      --disabled-fill-color: #AAA;\n",
              "      --disabled-bg-color: #DDD;\n",
              "  }\n",
              "\n",
              "  [theme=dark] .colab-df-quickchart {\n",
              "      --bg-color: #3B4455;\n",
              "      --fill-color: #D2E3FC;\n",
              "      --hover-bg-color: #434B5C;\n",
              "      --hover-fill-color: #FFFFFF;\n",
              "      --disabled-bg-color: #3B4455;\n",
              "      --disabled-fill-color: #666;\n",
              "  }\n",
              "\n",
              "  .colab-df-quickchart {\n",
              "    background-color: var(--bg-color);\n",
              "    border: none;\n",
              "    border-radius: 50%;\n",
              "    cursor: pointer;\n",
              "    display: none;\n",
              "    fill: var(--fill-color);\n",
              "    height: 32px;\n",
              "    padding: 0;\n",
              "    width: 32px;\n",
              "  }\n",
              "\n",
              "  .colab-df-quickchart:hover {\n",
              "    background-color: var(--hover-bg-color);\n",
              "    box-shadow: 0 1px 2px rgba(60, 64, 67, 0.3), 0 1px 3px 1px rgba(60, 64, 67, 0.15);\n",
              "    fill: var(--button-hover-fill-color);\n",
              "  }\n",
              "\n",
              "  .colab-df-quickchart-complete:disabled,\n",
              "  .colab-df-quickchart-complete:disabled:hover {\n",
              "    background-color: var(--disabled-bg-color);\n",
              "    fill: var(--disabled-fill-color);\n",
              "    box-shadow: none;\n",
              "  }\n",
              "\n",
              "  .colab-df-spinner {\n",
              "    border: 2px solid var(--fill-color);\n",
              "    border-color: transparent;\n",
              "    border-bottom-color: var(--fill-color);\n",
              "    animation:\n",
              "      spin 1s steps(1) infinite;\n",
              "  }\n",
              "\n",
              "  @keyframes spin {\n",
              "    0% {\n",
              "      border-color: transparent;\n",
              "      border-bottom-color: var(--fill-color);\n",
              "      border-left-color: var(--fill-color);\n",
              "    }\n",
              "    20% {\n",
              "      border-color: transparent;\n",
              "      border-left-color: var(--fill-color);\n",
              "      border-top-color: var(--fill-color);\n",
              "    }\n",
              "    30% {\n",
              "      border-color: transparent;\n",
              "      border-left-color: var(--fill-color);\n",
              "      border-top-color: var(--fill-color);\n",
              "      border-right-color: var(--fill-color);\n",
              "    }\n",
              "    40% {\n",
              "      border-color: transparent;\n",
              "      border-right-color: var(--fill-color);\n",
              "      border-top-color: var(--fill-color);\n",
              "    }\n",
              "    60% {\n",
              "      border-color: transparent;\n",
              "      border-right-color: var(--fill-color);\n",
              "    }\n",
              "    80% {\n",
              "      border-color: transparent;\n",
              "      border-right-color: var(--fill-color);\n",
              "      border-bottom-color: var(--fill-color);\n",
              "    }\n",
              "    90% {\n",
              "      border-color: transparent;\n",
              "      border-bottom-color: var(--fill-color);\n",
              "    }\n",
              "  }\n",
              "</style>\n",
              "\n",
              "  <script>\n",
              "    async function quickchart(key) {\n",
              "      const quickchartButtonEl =\n",
              "        document.querySelector('#' + key + ' button');\n",
              "      quickchartButtonEl.disabled = true;  // To prevent multiple clicks.\n",
              "      quickchartButtonEl.classList.add('colab-df-spinner');\n",
              "      try {\n",
              "        const charts = await google.colab.kernel.invokeFunction(\n",
              "            'suggestCharts', [key], {});\n",
              "      } catch (error) {\n",
              "        console.error('Error during call to suggestCharts:', error);\n",
              "      }\n",
              "      quickchartButtonEl.classList.remove('colab-df-spinner');\n",
              "      quickchartButtonEl.classList.add('colab-df-quickchart-complete');\n",
              "    }\n",
              "    (() => {\n",
              "      let quickchartButtonEl =\n",
              "        document.querySelector('#df-f5192362-8a91-4bd8-ac26-d5fedd724ef9 button');\n",
              "      quickchartButtonEl.style.display =\n",
              "        google.colab.kernel.accessAllowed ? 'block' : 'none';\n",
              "    })();\n",
              "  </script>\n",
              "</div>\n",
              "    </div>\n",
              "  </div>\n"
            ]
          },
          "metadata": {},
          "execution_count": 11
        }
      ]
    },
    {
      "cell_type": "code",
      "source": [
        "df.plot(kind='line',figsize=(14,8))\n",
        "plt.title('Rainfall chart of gwalior')\n",
        "plt.ylabel('values')\n",
        "plt.xlabel('parameters')"
      ],
      "metadata": {
        "colab": {
          "base_uri": "https://localhost:8080/",
          "height": 735
        },
        "id": "83qWiUcCD1zZ",
        "outputId": "6e28846f-229b-4c5c-8592-93c0f6865890"
      },
      "execution_count": null,
      "outputs": [
        {
          "output_type": "execute_result",
          "data": {
            "text/plain": [
              "Text(0.5, 0, 'parameters')"
            ]
          },
          "metadata": {},
          "execution_count": 12
        },
        {
          "output_type": "display_data",
          "data": {
            "text/plain": [
              "<Figure size 1400x800 with 1 Axes>"
            ],
            "image/png": "[encoded data removed]"
          },
          "metadata": {}
        }
      ]
    },
    {
      "cell_type": "code",
      "source": [
        "train_dates=pd.to_datetime(df['Time'])"
      ],
      "metadata": {
        "id": "INm55VCcEt_n"
      },
      "execution_count": null,
      "outputs": []
    },
    {
      "cell_type": "code",
      "source": [
        "train_dates"
      ],
      "metadata": {
        "colab": {
          "base_uri": "https://localhost:8080/"
        },
        "id": "Qw1VbuQ9FEbP",
        "outputId": "a61d18f7-9472-43b7-a297-89a75939407d"
      },
      "execution_count": null,
      "outputs": [
        {
          "output_type": "execute_result",
          "data": {
            "text/plain": [
              "0      2023-10-29 06:59:44.222972+05:30\n",
              "1      2023-10-29 07:00:01.582154+05:30\n",
              "2      2023-10-29 07:00:02.583604+05:30\n",
              "3      2023-10-29 07:00:03.585071+05:30\n",
              "4      2023-10-29 07:00:04.586540+05:30\n",
              "                     ...               \n",
              "3595   2023-10-29 08:00:00.486716+05:30\n",
              "3596   2023-10-29 08:00:01.488159+05:30\n",
              "3597   2023-10-29 08:00:02.489691+05:30\n",
              "3598   2023-10-29 08:00:03.491160+05:30\n",
              "3599   2023-10-29 08:00:04.492651+05:30\n",
              "Name: Time, Length: 3600, dtype: datetime64[ns, pytz.FixedOffset(330)]"
            ]
          },
          "metadata": {},
          "execution_count": 101
        }
      ]
    },
    {
      "cell_type": "code",
      "source": [
        "cols=list(df)[1:7]\n",
        "print(cols)"
      ],
      "metadata": {
        "colab": {
          "base_uri": "https://localhost:8080/"
        },
        "id": "-Er1Zfw2FbRv",
        "outputId": "a73479da-25cb-4f4c-80f4-d6b2d3caba35"
      },
      "execution_count": null,
      "outputs": [
        {
          "output_type": "stream",
          "name": "stdout",
          "text": [
            "['weather', 'temperature', 'humidity', 'wind_pressure', 'wind_speed', 'wind_direction']\n"
          ]
        }
      ]
    },
    {
      "cell_type": "code",
      "source": [
        "training_df=df[cols].astype(float)\n",
        "plot_df=training_df\n",
        "plot_df.plot.line()"
      ],
      "metadata": {
        "colab": {
          "base_uri": "https://localhost:8080/",
          "height": 608
        },
        "id": "wNIsP4CYFoYo",
        "outputId": "6df2a8d9-f15f-4bf8-fcc9-c6a330b82b44"
      },
      "execution_count": null,
      "outputs": [
        {
          "output_type": "execute_result",
          "data": {
            "text/plain": [
              "<Axes: >"
            ]
          },
          "metadata": {},
          "execution_count": 103
        },
        {
          "output_type": "display_data",
          "data": {
            "text/plain": [
              "<Figure size 1500x800 with 1 Axes>"
            ],
            "image/png": "[encoded data removed]"
          },
          "metadata": {}
        }
      ]
    },
    {
      "cell_type": "code",
      "source": [
        "from sklearn.preprocessing import StandardScaler\n",
        "scalar=StandardScaler()\n",
        "scalar=scalar.fit(training_df)\n",
        "training_df_scaled=scalar.transform(training_df)"
      ],
      "metadata": {
        "id": "iwPTyodTGAYr"
      },
      "execution_count": null,
      "outputs": []
    },
    {
      "cell_type": "code",
      "source": [
        "#Lists for storing the training data considering multiple variables\n",
        "#trainX for storing training data (weather,temperature,humidity,wind_pressure,wind_speed,wind_direction)\n",
        "#trainY for storing target values(weather)\n",
        "trainX=[]\n",
        "trainY=[]\n",
        "#1m = 60 seconds\n",
        "#1hour = 3600 seconds\n",
        "#1day = 86400 seconds\n",
        "#7days = 604800 seconds\n",
        "# clear\n",
        "n_past=180 #7 values will be considered to predict the next values\n",
        "n_fut=180 #for predicting the next 100 value based on previous 20 values\n",
        "\n",
        "\n",
        "#Adding the values to trainX and trainY lists\n",
        "for i in range(n_past,len(training_df_scaled)-n_fut+1):\n",
        "    trainX.append(training_df_scaled[i-n_past:i,0:training_df_scaled.shape[1]])\n",
        "    trainY.append(training_df_scaled[i+n_fut-1:i+n_fut,0])\n",
        "\n",
        "#Converting into numpy arrays\n",
        "trainX,trainY=np.array(trainX),np.array(trainY)\n",
        "\n",
        "print('trainX shape == {}'.format(trainX.shape))#Knowing the shape\n",
        "#(364,20,4) means there are 364windows(groups) of 20*4\n",
        "\n",
        "\n",
        "print('trainY shape == {}'.format(trainY.shape))\n",
        "#There are 364 values from previous values"
      ],
      "metadata": {
        "colab": {
          "base_uri": "https://localhost:8080/"
        },
        "id": "O5-mcKX_Z57B",
        "outputId": "5d969f9d-07c3-4812-a692-e499f748b436"
      },
      "execution_count": null,
      "outputs": [
        {
          "output_type": "stream",
          "name": "stdout",
          "text": [
            "trainX shape == (3241, 180, 6)\n",
            "trainY shape == (3241, 1)\n"
          ]
        }
      ]
    },
    {
      "cell_type": "code",
      "source": [
        "model=Sequential()\n",
        "model.add(LSTM(32,activation='relu',input_shape=(trainX.shape[1],trainX.shape[2]),return_sequences=True))\n",
        "model.add(Dropout(0.3))\n",
        "\n",
        "model.add(LSTM(32,activation='relu',return_sequences=True))\n",
        "model.add(Dropout(0.3))\n",
        "\n",
        "model.add(LSTM(32,activation='relu',return_sequences=False))\n",
        "model.add(Dropout(0.3))\n",
        "\n",
        "model.add(Dense(trainY.shape[1]))\n",
        "\n",
        "model.compile(optimizer='adam',loss='mse')\n",
        "model.summary()"
      ],
      "metadata": {
        "colab": {
          "base_uri": "https://localhost:8080/"
        },
        "id": "hqx6662IbbRr",
        "outputId": "6501dfb4-c53b-462d-ca79-9f49d3101031"
      },
      "execution_count": null,
      "outputs": [
        {
          "output_type": "stream",
          "name": "stdout",
          "text": [
            "Model: \"sequential_2\"\n",
            "_________________________________________________________________\n",
            " Layer (type)                Output Shape              Param #   \n",
            "=================================================================\n",
            " lstm_6 (LSTM)               (None, 180, 32)           4992      \n",
            "                                                                 \n",
            " dropout_6 (Dropout)         (None, 180, 32)           0         \n",
            "                                                                 \n",
            " lstm_7 (LSTM)               (None, 180, 32)           8320      \n",
            "                                                                 \n",
            " dropout_7 (Dropout)         (None, 180, 32)           0         \n",
            "                                                                 \n",
            " lstm_8 (LSTM)               (None, 32)                8320      \n",
            "                                                                 \n",
            " dropout_8 (Dropout)         (None, 32)                0         \n",
            "                                                                 \n",
            " dense_2 (Dense)             (None, 1)                 33        \n",
            "                                                                 \n",
            "=================================================================\n",
            "Total params: 21665 (84.63 KB)\n",
            "Trainable params: 21665 (84.63 KB)\n",
            "Non-trainable params: 0 (0.00 Byte)\n",
            "_________________________________________________________________\n"
          ]
        }
      ]
    },
    {
      "cell_type": "code",
      "source": [
        "history=model.fit(trainX,trainY,epochs=10,batch_size=5,validation_split=0.2,verbose=1)"
      ],
      "metadata": {
        "colab": {
          "base_uri": "https://localhost:8080/"
        },
        "id": "6t0saLFebdcA",
        "outputId": "c6e31e8e-88af-482a-d38a-e9e54ff0f390"
      },
      "execution_count": null,
      "outputs": [
        {
          "output_type": "stream",
          "name": "stdout",
          "text": [
            "Epoch 1/30\n",
            "519/519 [==============================] - 108s 200ms/step - loss: 3.2131e-09 - val_loss: 4.7352e-12\n",
            "Epoch 2/30\n",
            "519/519 [==============================] - 101s 195ms/step - loss: 4.2666e-12 - val_loss: 4.4438e-12\n",
            "Epoch 3/30\n",
            "519/519 [==============================] - 101s 195ms/step - loss: 5.2059e-10 - val_loss: 2.4521e-11\n",
            "Epoch 4/30\n",
            "519/519 [==============================] - 100s 193ms/step - loss: 7.2680e-10 - val_loss: 4.5558e-14\n",
            "Epoch 5/30\n",
            "519/519 [==============================] - 101s 195ms/step - loss: 6.7391e-10 - val_loss: 2.1223e-13\n",
            "Epoch 6/30\n",
            "519/519 [==============================] - 102s 196ms/step - loss: 7.1745e-10 - val_loss: 1.9748e-11\n",
            "Epoch 7/30\n",
            "519/519 [==============================] - 102s 197ms/step - loss: 8.9794e-10 - val_loss: 4.0177e-10\n",
            "Epoch 8/30\n",
            "519/519 [==============================] - 102s 196ms/step - loss: 8.6428e-10 - val_loss: 4.3461e-12\n",
            "Epoch 9/30\n",
            "519/519 [==============================] - 101s 194ms/step - loss: 5.0907e-10 - val_loss: 6.9949e-20\n",
            "Epoch 10/30\n",
            "519/519 [==============================] - 103s 199ms/step - loss: 1.1318e-09 - val_loss: 1.4425e-11\n",
            "Epoch 11/30\n",
            "519/519 [==============================] - 103s 198ms/step - loss: 6.3669e-10 - val_loss: 7.2010e-17\n",
            "Epoch 12/30\n",
            "519/519 [==============================] - 104s 200ms/step - loss: 6.9963e-10 - val_loss: 3.4487e-20\n",
            "Epoch 13/30\n",
            "519/519 [==============================] - 103s 199ms/step - loss: 7.7185e-10 - val_loss: 5.5862e-23\n",
            "Epoch 14/30\n",
            "519/519 [==============================] - 103s 199ms/step - loss: 7.8521e-10 - val_loss: 1.0046e-24\n",
            "Epoch 15/30\n",
            "519/519 [==============================] - 103s 198ms/step - loss: 7.6503e-10 - val_loss: 5.6688e-25\n",
            "Epoch 16/30\n",
            "519/519 [==============================] - 103s 199ms/step - loss: 7.5711e-10 - val_loss: 8.7632e-30\n",
            "Epoch 17/30\n",
            "519/519 [==============================] - 103s 199ms/step - loss: 7.5262e-10 - val_loss: 8.4665e-22\n",
            "Epoch 18/30\n",
            "519/519 [==============================] - 103s 198ms/step - loss: 7.3182e-10 - val_loss: 7.7842e-13\n",
            "Epoch 19/30\n",
            "519/519 [==============================] - 102s 197ms/step - loss: 8.1752e-10 - val_loss: 3.4301e-12\n",
            "Epoch 20/30\n",
            "519/519 [==============================] - 102s 197ms/step - loss: 8.5938e-10 - val_loss: 3.8088e-08\n",
            "Epoch 21/30\n",
            "519/519 [==============================] - 103s 198ms/step - loss: 1.3995e-09 - val_loss: 3.5073e-10\n",
            "Epoch 22/30\n",
            "519/519 [==============================] - 103s 198ms/step - loss: 7.5844e-10 - val_loss: 1.1960e-12\n",
            "Epoch 23/30\n",
            "519/519 [==============================] - 102s 197ms/step - loss: 7.2525e-10 - val_loss: 1.0071e-14\n",
            "Epoch 24/30\n",
            "519/519 [==============================] - 102s 197ms/step - loss: 7.4423e-10 - val_loss: 5.1796e-16\n",
            "Epoch 25/30\n",
            "519/519 [==============================] - 103s 198ms/step - loss: 7.2406e-10 - val_loss: 1.5875e-17\n",
            "Epoch 26/30\n",
            "519/519 [==============================] - 102s 197ms/step - loss: 8.2024e-10 - val_loss: 2.9672e-19\n",
            "Epoch 27/30\n",
            "519/519 [==============================] - 110s 212ms/step - loss: 7.9843e-10 - val_loss: 6.9963e-20\n",
            "Epoch 28/30\n",
            "519/519 [==============================] - 105s 203ms/step - loss: 8.2971e-10 - val_loss: 1.2205e-19\n",
            "Epoch 29/30\n",
            "519/519 [==============================] - 105s 203ms/step - loss: 7.8699e-10 - val_loss: 1.5145e-19\n",
            "Epoch 30/30\n",
            "519/519 [==============================] - 105s 202ms/step - loss: 8.1312e-10 - val_loss: 2.1746e-21\n"
          ]
        }
      ]
    },
    {
      "cell_type": "code",
      "source": [
        "plt.plot(history.history['loss'],label='Training loss')\n",
        "plt.plot(history.history['val_loss'],label='Validation Loss')\n",
        "plt.legend()"
      ],
      "metadata": {
        "colab": {
          "base_uri": "https://localhost:8080/",
          "height": 629
        },
        "id": "vMGX-IvjbtLa",
        "outputId": "8efc5948-e38c-4ddf-b4c7-5c6c8073c559"
      },
      "execution_count": null,
      "outputs": [
        {
          "output_type": "execute_result",
          "data": {
            "text/plain": [
              "<matplotlib.legend.Legend at 0x7e04bbedaec0>"
            ]
          },
          "metadata": {},
          "execution_count": 110
        },
        {
          "output_type": "display_data",
          "data": {
            "text/plain": [
              "<Figure size 1500x800 with 1 Axes>"
            ],
            "image/png": "[encoded data removed]"
          },
          "metadata": {}
        }
      ]
    },
    {
      "cell_type": "code",
      "source": [
        "\n",
        "#n_past is the row number corresponding to the start date or time\n",
        "n_past = 1\n",
        "#n_days_for_prediction is the row number corresponding to the end date or time\n",
        "n_days_for_prediction=180\n",
        "\n",
        "predict_period_dates = pd.date_range(list(train_dates)[-n_past], periods=n_days_for_prediction, freq='S').tolist()\n",
        "\n",
        "# make prediction\n",
        "prediction = model.predict(trainX[-n_days_for_prediction:]) #shape = (n, 1) where n is the n_days_for_prediction\n",
        "\n",
        "#Perform inverse transformation to rescale back to original range\n",
        "#Since we used 1 variables for transform, the inverse expects same dimensions\n",
        "prediction_copies = np.repeat(prediction, training_df.shape[1], axis=-1)\n",
        "\n",
        "y_pred_future = scalar.inverse_transform(prediction_copies)[:,0]\n",
        "print(predict_period_dates)\n",
        "\n"
      ],
      "metadata": {
        "colab": {
          "base_uri": "https://localhost:8080/"
        },
        "id": "J9Mi6V1WcFfJ",
        "outputId": "2687a0f2-5cd9-4187-8c1e-fb6560f47cb2"
      },
      "execution_count": null,
      "outputs": [
        {
          "output_type": "stream",
          "name": "stdout",
          "text": [
            "6/6 [==============================] - 1s 80ms/step\n",
            "[Timestamp('2023-10-29 08:00:04.492651+0530', tz='pytz.FixedOffset(330)', freq='S'), Timestamp('2023-10-29 08:00:05.492651+0530', tz='pytz.FixedOffset(330)', freq='S'), Timestamp('2023-10-29 08:00:06.492651+0530', tz='pytz.FixedOffset(330)', freq='S'), Timestamp('2023-10-29 08:00:07.492651+0530', tz='pytz.FixedOffset(330)', freq='S'), Timestamp('2023-10-29 08:00:08.492651+0530', tz='pytz.FixedOffset(330)', freq='S'), Timestamp('2023-10-29 08:00:09.492651+0530', tz='pytz.FixedOffset(330)', freq='S'), Timestamp('2023-10-29 08:00:10.492651+0530', tz='pytz.FixedOffset(330)', freq='S'), Timestamp('2023-10-29 08:00:11.492651+0530', tz='pytz.FixedOffset(330)', freq='S'), Timestamp('2023-10-29 08:00:12.492651+0530', tz='pytz.FixedOffset(330)', freq='S'), Timestamp('2023-10-29 08:00:13.492651+0530', tz='pytz.FixedOffset(330)', freq='S'), Timestamp('2023-10-29 08:00:14.492651+0530', tz='pytz.FixedOffset(330)', freq='S'), Timestamp('2023-10-29 08:00:15.492651+0530', tz='pytz.FixedOffset(330)', freq='S'), Timestamp('2023-10-29 08:00:16.492651+0530', tz='pytz.FixedOffset(330)', freq='S'), Timestamp('2023-10-29 08:00:17.492651+0530', tz='pytz.FixedOffset(330)', freq='S'), Timestamp('2023-10-29 08:00:18.492651+0530', tz='pytz.FixedOffset(330)', freq='S'), Timestamp('2023-10-29 08:00:19.492651+0530', tz='pytz.FixedOffset(330)', freq='S'), Timestamp('2023-10-29 08:00:20.492651+0530', tz='pytz.FixedOffset(330)', freq='S'), Timestamp('2023-10-29 08:00:21.492651+0530', tz='pytz.FixedOffset(330)', freq='S'), Timestamp('2023-10-29 08:00:22.492651+0530', tz='pytz.FixedOffset(330)', freq='S'), Timestamp('2023-10-29 08:00:23.492651+0530', tz='pytz.FixedOffset(330)', freq='S'), Timestamp('2023-10-29 08:00:24.492651+0530', tz='pytz.FixedOffset(330)', freq='S'), Timestamp('2023-10-29 08:00:25.492651+0530', tz='pytz.FixedOffset(330)', freq='S'), Timestamp('2023-10-29 08:00:26.492651+0530', tz='pytz.FixedOffset(330)', freq='S'), Timestamp('2023-10-29 08:00:27.492651+0530', tz='pytz.FixedOffset(330)', freq='S'), Timestamp('2023-10-29 08:00:28.492651+0530', tz='pytz.FixedOffset(330)', freq='S'), Timestamp('2023-10-29 08:00:29.492651+0530', tz='pytz.FixedOffset(330)', freq='S'), Timestamp('2023-10-29 08:00:30.492651+0530', tz='pytz.FixedOffset(330)', freq='S'), Timestamp('2023-10-29 08:00:31.492651+0530', tz='pytz.FixedOffset(330)', freq='S'), Timestamp('2023-10-29 08:00:32.492651+0530', tz='pytz.FixedOffset(330)', freq='S'), Timestamp('2023-10-29 08:00:33.492651+0530', tz='pytz.FixedOffset(330)', freq='S'), Timestamp('2023-10-29 08:00:34.492651+0530', tz='pytz.FixedOffset(330)', freq='S'), Timestamp('2023-10-29 08:00:35.492651+0530', tz='pytz.FixedOffset(330)', freq='S'), Timestamp('2023-10-29 08:00:36.492651+0530', tz='pytz.FixedOffset(330)', freq='S'), Timestamp('2023-10-29 08:00:37.492651+0530', tz='pytz.FixedOffset(330)', freq='S'), Timestamp('2023-10-29 08:00:38.492651+0530', tz='pytz.FixedOffset(330)', freq='S'), Timestamp('2023-10-29 08:00:39.492651+0530', tz='pytz.FixedOffset(330)', freq='S'), Timestamp('2023-10-29 08:00:40.492651+0530', tz='pytz.FixedOffset(330)', freq='S'), Timestamp('2023-10-29 08:00:41.492651+0530', tz='pytz.FixedOffset(330)', freq='S'), Timestamp('2023-10-29 08:00:42.492651+0530', tz='pytz.FixedOffset(330)', freq='S'), Timestamp('2023-10-29 08:00:43.492651+0530', tz='pytz.FixedOffset(330)', freq='S'), Timestamp('2023-10-29 08:00:44.492651+0530', tz='pytz.FixedOffset(330)', freq='S'), Timestamp('2023-10-29 08:00:45.492651+0530', tz='pytz.FixedOffset(330)', freq='S'), Timestamp('2023-10-29 08:00:46.492651+0530', tz='pytz.FixedOffset(330)', freq='S'), Timestamp('2023-10-29 08:00:47.492651+0530', tz='pytz.FixedOffset(330)', freq='S'), Timestamp('2023-10-29 08:00:48.492651+0530', tz='pytz.FixedOffset(330)', freq='S'), Timestamp('2023-10-29 08:00:49.492651+0530', tz='pytz.FixedOffset(330)', freq='S'), Timestamp('2023-10-29 08:00:50.492651+0530', tz='pytz.FixedOffset(330)', freq='S'), Timestamp('2023-10-29 08:00:51.492651+0530', tz='pytz.FixedOffset(330)', freq='S'), Timestamp('2023-10-29 08:00:52.492651+0530', tz='pytz.FixedOffset(330)', freq='S'), Timestamp('2023-10-29 08:00:53.492651+0530', tz='pytz.FixedOffset(330)', freq='S'), Timestamp('2023-10-29 08:00:54.492651+0530', tz='pytz.FixedOffset(330)', freq='S'), Timestamp('2023-10-29 08:00:55.492651+0530', tz='pytz.FixedOffset(330)', freq='S'), Timestamp('2023-10-29 08:00:56.492651+0530', tz='pytz.FixedOffset(330)', freq='S'), Timestamp('2023-10-29 08:00:57.492651+0530', tz='pytz.FixedOffset(330)', freq='S'), Timestamp('2023-10-29 08:00:58.492651+0530', tz='pytz.FixedOffset(330)', freq='S'), Timestamp('2023-10-29 08:00:59.492651+0530', tz='pytz.FixedOffset(330)', freq='S'), Timestamp('2023-10-29 08:01:00.492651+0530', tz='pytz.FixedOffset(330)', freq='S'), Timestamp('2023-10-29 08:01:01.492651+0530', tz='pytz.FixedOffset(330)', freq='S'), Timestamp('2023-10-29 08:01:02.492651+0530', tz='pytz.FixedOffset(330)', freq='S'), Timestamp('2023-10-29 08:01:03.492651+0530', tz='pytz.FixedOffset(330)', freq='S'), Timestamp('2023-10-29 08:01:04.492651+0530', tz='pytz.FixedOffset(330)', freq='S'), Timestamp('2023-10-29 08:01:05.492651+0530', tz='pytz.FixedOffset(330)', freq='S'), Timestamp('2023-10-29 08:01:06.492651+0530', tz='pytz.FixedOffset(330)', freq='S'), Timestamp('2023-10-29 08:01:07.492651+0530', tz='pytz.FixedOffset(330)', freq='S'), Timestamp('2023-10-29 08:01:08.492651+0530', tz='pytz.FixedOffset(330)', freq='S'), Timestamp('2023-10-29 08:01:09.492651+0530', tz='pytz.FixedOffset(330)', freq='S'), Timestamp('2023-10-29 08:01:10.492651+0530', tz='pytz.FixedOffset(330)', freq='S'), Timestamp('2023-10-29 08:01:11.492651+0530', tz='pytz.FixedOffset(330)', freq='S'), Timestamp('2023-10-29 08:01:12.492651+0530', tz='pytz.FixedOffset(330)', freq='S'), Timestamp('2023-10-29 08:01:13.492651+0530', tz='pytz.FixedOffset(330)', freq='S'), Timestamp('2023-10-29 08:01:14.492651+0530', tz='pytz.FixedOffset(330)', freq='S'), Timestamp('2023-10-29 08:01:15.492651+0530', tz='pytz.FixedOffset(330)', freq='S'), Timestamp('2023-10-29 08:01:16.492651+0530', tz='pytz.FixedOffset(330)', freq='S'), Timestamp('2023-10-29 08:01:17.492651+0530', tz='pytz.FixedOffset(330)', freq='S'), Timestamp('2023-10-29 08:01:18.492651+0530', tz='pytz.FixedOffset(330)', freq='S'), Timestamp('2023-10-29 08:01:19.492651+0530', tz='pytz.FixedOffset(330)', freq='S'), Timestamp('2023-10-29 08:01:20.492651+0530', tz='pytz.FixedOffset(330)', freq='S'), Timestamp('2023-10-29 08:01:21.492651+0530', tz='pytz.FixedOffset(330)', freq='S'), Timestamp('2023-10-29 08:01:22.492651+0530', tz='pytz.FixedOffset(330)', freq='S'), Timestamp('2023-10-29 08:01:23.492651+0530', tz='pytz.FixedOffset(330)', freq='S'), Timestamp('2023-10-29 08:01:24.492651+0530', tz='pytz.FixedOffset(330)', freq='S'), Timestamp('2023-10-29 08:01:25.492651+0530', tz='pytz.FixedOffset(330)', freq='S'), Timestamp('2023-10-29 08:01:26.492651+0530', tz='pytz.FixedOffset(330)', freq='S'), Timestamp('2023-10-29 08:01:27.492651+0530', tz='pytz.FixedOffset(330)', freq='S'), Timestamp('2023-10-29 08:01:28.492651+0530', tz='pytz.FixedOffset(330)', freq='S'), Timestamp('2023-10-29 08:01:29.492651+0530', tz='pytz.FixedOffset(330)', freq='S'), Timestamp('2023-10-29 08:01:30.492651+0530', tz='pytz.FixedOffset(330)', freq='S'), Timestamp('2023-10-29 08:01:31.492651+0530', tz='pytz.FixedOffset(330)', freq='S'), Timestamp('2023-10-29 08:01:32.492651+0530', tz='pytz.FixedOffset(330)', freq='S'), Timestamp('2023-10-29 08:01:33.492651+0530', tz='pytz.FixedOffset(330)', freq='S'), Timestamp('2023-10-29 08:01:34.492651+0530', tz='pytz.FixedOffset(330)', freq='S'), Timestamp('2023-10-29 08:01:35.492651+0530', tz='pytz.FixedOffset(330)', freq='S'), Timestamp('2023-10-29 08:01:36.492651+0530', tz='pytz.FixedOffset(330)', freq='S'), Timestamp('2023-10-29 08:01:37.492651+0530', tz='pytz.FixedOffset(330)', freq='S'), Timestamp('2023-10-29 08:01:38.492651+0530', tz='pytz.FixedOffset(330)', freq='S'), Timestamp('2023-10-29 08:01:39.492651+0530', tz='pytz.FixedOffset(330)', freq='S'), Timestamp('2023-10-29 08:01:40.492651+0530', tz='pytz.FixedOffset(330)', freq='S'), Timestamp('2023-10-29 08:01:41.492651+0530', tz='pytz.FixedOffset(330)', freq='S'), Timestamp('2023-10-29 08:01:42.492651+0530', tz='pytz.FixedOffset(330)', freq='S'), Timestamp('2023-10-29 08:01:43.492651+0530', tz='pytz.FixedOffset(330)', freq='S'), Timestamp('2023-10-29 08:01:44.492651+0530', tz='pytz.FixedOffset(330)', freq='S'), Timestamp('2023-10-29 08:01:45.492651+0530', tz='pytz.FixedOffset(330)', freq='S'), Timestamp('2023-10-29 08:01:46.492651+0530', tz='pytz.FixedOffset(330)', freq='S'), Timestamp('2023-10-29 08:01:47.492651+0530', tz='pytz.FixedOffset(330)', freq='S'), Timestamp('2023-10-29 08:01:48.492651+0530', tz='pytz.FixedOffset(330)', freq='S'), Timestamp('2023-10-29 08:01:49.492651+0530', tz='pytz.FixedOffset(330)', freq='S'), Timestamp('2023-10-29 08:01:50.492651+0530', tz='pytz.FixedOffset(330)', freq='S'), Timestamp('2023-10-29 08:01:51.492651+0530', tz='pytz.FixedOffset(330)', freq='S'), Timestamp('2023-10-29 08:01:52.492651+0530', tz='pytz.FixedOffset(330)', freq='S'), Timestamp('2023-10-29 08:01:53.492651+0530', tz='pytz.FixedOffset(330)', freq='S'), Timestamp('2023-10-29 08:01:54.492651+0530', tz='pytz.FixedOffset(330)', freq='S'), Timestamp('2023-10-29 08:01:55.492651+0530', tz='pytz.FixedOffset(330)', freq='S'), Timestamp('2023-10-29 08:01:56.492651+0530', tz='pytz.FixedOffset(330)', freq='S'), Timestamp('2023-10-29 08:01:57.492651+0530', tz='pytz.FixedOffset(330)', freq='S'), Timestamp('2023-10-29 08:01:58.492651+0530', tz='pytz.FixedOffset(330)', freq='S'), Timestamp('2023-10-29 08:01:59.492651+0530', tz='pytz.FixedOffset(330)', freq='S'), Timestamp('2023-10-29 08:02:00.492651+0530', tz='pytz.FixedOffset(330)', freq='S'), Timestamp('2023-10-29 08:02:01.492651+0530', tz='pytz.FixedOffset(330)', freq='S'), Timestamp('2023-10-29 08:02:02.492651+0530', tz='pytz.FixedOffset(330)', freq='S'), Timestamp('2023-10-29 08:02:03.492651+0530', tz='pytz.FixedOffset(330)', freq='S'), Timestamp('2023-10-29 08:02:04.492651+0530', tz='pytz.FixedOffset(330)', freq='S'), Timestamp('2023-10-29 08:02:05.492651+0530', tz='pytz.FixedOffset(330)', freq='S'), Timestamp('2023-10-29 08:02:06.492651+0530', tz='pytz.FixedOffset(330)', freq='S'), Timestamp('2023-10-29 08:02:07.492651+0530', tz='pytz.FixedOffset(330)', freq='S'), Timestamp('2023-10-29 08:02:08.492651+0530', tz='pytz.FixedOffset(330)', freq='S'), Timestamp('2023-10-29 08:02:09.492651+0530', tz='pytz.FixedOffset(330)', freq='S'), Timestamp('2023-10-29 08:02:10.492651+0530', tz='pytz.FixedOffset(330)', freq='S'), Timestamp('2023-10-29 08:02:11.492651+0530', tz='pytz.FixedOffset(330)', freq='S'), Timestamp('2023-10-29 08:02:12.492651+0530', tz='pytz.FixedOffset(330)', freq='S'), Timestamp('2023-10-29 08:02:13.492651+0530', tz='pytz.FixedOffset(330)', freq='S'), Timestamp('2023-10-29 08:02:14.492651+0530', tz='pytz.FixedOffset(330)', freq='S'), Timestamp('2023-10-29 08:02:15.492651+0530', tz='pytz.FixedOffset(330)', freq='S'), Timestamp('2023-10-29 08:02:16.492651+0530', tz='pytz.FixedOffset(330)', freq='S'), Timestamp('2023-10-29 08:02:17.492651+0530', tz='pytz.FixedOffset(330)', freq='S'), Timestamp('2023-10-29 08:02:18.492651+0530', tz='pytz.FixedOffset(330)', freq='S'), Timestamp('2023-10-29 08:02:19.492651+0530', tz='pytz.FixedOffset(330)', freq='S'), Timestamp('2023-10-29 08:02:20.492651+0530', tz='pytz.FixedOffset(330)', freq='S'), Timestamp('2023-10-29 08:02:21.492651+0530', tz='pytz.FixedOffset(330)', freq='S'), Timestamp('2023-10-29 08:02:22.492651+0530', tz='pytz.FixedOffset(330)', freq='S'), Timestamp('2023-10-29 08:02:23.492651+0530', tz='pytz.FixedOffset(330)', freq='S'), Timestamp('2023-10-29 08:02:24.492651+0530', tz='pytz.FixedOffset(330)', freq='S'), Timestamp('2023-10-29 08:02:25.492651+0530', tz='pytz.FixedOffset(330)', freq='S'), Timestamp('2023-10-29 08:02:26.492651+0530', tz='pytz.FixedOffset(330)', freq='S'), Timestamp('2023-10-29 08:02:27.492651+0530', tz='pytz.FixedOffset(330)', freq='S'), Timestamp('2023-10-29 08:02:28.492651+0530', tz='pytz.FixedOffset(330)', freq='S'), Timestamp('2023-10-29 08:02:29.492651+0530', tz='pytz.FixedOffset(330)', freq='S'), Timestamp('2023-10-29 08:02:30.492651+0530', tz='pytz.FixedOffset(330)', freq='S'), Timestamp('2023-10-29 08:02:31.492651+0530', tz='pytz.FixedOffset(330)', freq='S'), Timestamp('2023-10-29 08:02:32.492651+0530', tz='pytz.FixedOffset(330)', freq='S'), Timestamp('2023-10-29 08:02:33.492651+0530', tz='pytz.FixedOffset(330)', freq='S'), Timestamp('2023-10-29 08:02:34.492651+0530', tz='pytz.FixedOffset(330)', freq='S'), Timestamp('2023-10-29 08:02:35.492651+0530', tz='pytz.FixedOffset(330)', freq='S'), Timestamp('2023-10-29 08:02:36.492651+0530', tz='pytz.FixedOffset(330)', freq='S'), Timestamp('2023-10-29 08:02:37.492651+0530', tz='pytz.FixedOffset(330)', freq='S'), Timestamp('2023-10-29 08:02:38.492651+0530', tz='pytz.FixedOffset(330)', freq='S'), Timestamp('2023-10-29 08:02:39.492651+0530', tz='pytz.FixedOffset(330)', freq='S'), Timestamp('2023-10-29 08:02:40.492651+0530', tz='pytz.FixedOffset(330)', freq='S'), Timestamp('2023-10-29 08:02:41.492651+0530', tz='pytz.FixedOffset(330)', freq='S'), Timestamp('2023-10-29 08:02:42.492651+0530', tz='pytz.FixedOffset(330)', freq='S'), Timestamp('2023-10-29 08:02:43.492651+0530', tz='pytz.FixedOffset(330)', freq='S'), Timestamp('2023-10-29 08:02:44.492651+0530', tz='pytz.FixedOffset(330)', freq='S'), Timestamp('2023-10-29 08:02:45.492651+0530', tz='pytz.FixedOffset(330)', freq='S'), Timestamp('2023-10-29 08:02:46.492651+0530', tz='pytz.FixedOffset(330)', freq='S'), Timestamp('2023-10-29 08:02:47.492651+0530', tz='pytz.FixedOffset(330)', freq='S'), Timestamp('2023-10-29 08:02:48.492651+0530', tz='pytz.FixedOffset(330)', freq='S'), Timestamp('2023-10-29 08:02:49.492651+0530', tz='pytz.FixedOffset(330)', freq='S'), Timestamp('2023-10-29 08:02:50.492651+0530', tz='pytz.FixedOffset(330)', freq='S'), Timestamp('2023-10-29 08:02:51.492651+0530', tz='pytz.FixedOffset(330)', freq='S'), Timestamp('2023-10-29 08:02:52.492651+0530', tz='pytz.FixedOffset(330)', freq='S'), Timestamp('2023-10-29 08:02:53.492651+0530', tz='pytz.FixedOffset(330)', freq='S'), Timestamp('2023-10-29 08:02:54.492651+0530', tz='pytz.FixedOffset(330)', freq='S'), Timestamp('2023-10-29 08:02:55.492651+0530', tz='pytz.FixedOffset(330)', freq='S'), Timestamp('2023-10-29 08:02:56.492651+0530', tz='pytz.FixedOffset(330)', freq='S'), Timestamp('2023-10-29 08:02:57.492651+0530', tz='pytz.FixedOffset(330)', freq='S'), Timestamp('2023-10-29 08:02:58.492651+0530', tz='pytz.FixedOffset(330)', freq='S'), Timestamp('2023-10-29 08:02:59.492651+0530', tz='pytz.FixedOffset(330)', freq='S'), Timestamp('2023-10-29 08:03:00.492651+0530', tz='pytz.FixedOffset(330)', freq='S'), Timestamp('2023-10-29 08:03:01.492651+0530', tz='pytz.FixedOffset(330)', freq='S'), Timestamp('2023-10-29 08:03:02.492651+0530', tz='pytz.FixedOffset(330)', freq='S'), Timestamp('2023-10-29 08:03:03.492651+0530', tz='pytz.FixedOffset(330)', freq='S')]\n"
          ]
        }
      ]
    },
    {
      "cell_type": "code",
      "source": [
        "# Convert timestamp to date\n",
        "forecast_dates = []\n",
        "for time_i in predict_period_dates:\n",
        "    forecast_dates.append(time_i.date())\n",
        "\n",
        "df_forecast = pd.DataFrame({'Time':np.array(forecast_dates), 'weather':y_pred_future})\n",
        "df_forecast['Time']=pd.to_datetime(df_forecast['Time'])\n"
      ],
      "metadata": {
        "id": "90n394BLcmpJ"
      },
      "execution_count": null,
      "outputs": []
    },
    {
      "cell_type": "code",
      "source": [
        "import seaborn as sns\n",
        "\n",
        "original = df[['Time', 'weather']]\n",
        "original['Time']=pd.to_datetime(original['Time'])\n",
        "original = original.loc[original['Time'] >= '2023-10-29 05:26:09.720238+05:30']\n",
        "\n",
        "sns.lineplot(x=\"Time\", y=\"weather\", data=df_forecast)\n",
        "#sns.lineplot(x=\"Time\", y=\"weather\", data=original)"
      ],
      "metadata": {
        "colab": {
          "base_uri": "https://localhost:8080/",
          "height": 713
        },
        "id": "JPXUoRkVcGgw",
        "outputId": "0d057035-d913-41b5-f692-1a8eaed33e7e"
      },
      "execution_count": null,
      "outputs": [
        {
          "output_type": "stream",
          "name": "stderr",
          "text": [
            "<ipython-input-116-749d2ded7588>:4: SettingWithCopyWarning: \n",
            "A value is trying to be set on a copy of a slice from a DataFrame.\n",
            "Try using .loc[row_indexer,col_indexer] = value instead\n",
            "\n",
            "See the caveats in the documentation: https://pandas.pydata.org/pandas-docs/stable/user_guide/indexing.html#returning-a-view-versus-a-copy\n",
            "  original['Time']=pd.to_datetime(original['Time'])\n"
          ]
        },
        {
          "output_type": "execute_result",
          "data": {
            "text/plain": [
              "<Axes: xlabel='Time', ylabel='weather'>"
            ]
          },
          "metadata": {},
          "execution_count": 116
        },
        {
          "output_type": "display_data",
          "data": {
            "text/plain": [
              "<Figure size 1500x800 with 1 Axes>"
            ],
            "image/png": "[encoded data removed]"
          },
          "metadata": {}
        }
      ]
    },
    {
      "cell_type": "code",
      "source": [
        "print(\"enter the weather value\")\n",
        "weather_value=input()\n",
        "weather_value=int(weather_value)\n",
        "#Group 2xx: Thunderstorm\n",
        "if(weather_value==200):\n",
        " print(\"thunderstorm with light rain\")\n",
        "elif(weather_value==201):\n",
        " print(\"thunderstorm with rain\")\n",
        "elif(weather_value==202):\n",
        " print(\"thunderstorm with heavy rain\")\n",
        "elif(weather_value==210):\n",
        " print(\"light thunderstorm\")\n",
        "elif(weather_value==211):\n",
        " print(\"thunderstorm\")\n",
        "elif(weather_value==212):\n",
        " print(\"heavy thunderstorm\")\n",
        "elif(weather_value==221):\n",
        " print(\"ragged thunderstorm\")\n",
        "elif(weather_value==230):\n",
        " print(\"thunderstorm with light drizzle\")\n",
        "elif(weather_value==231):\n",
        " print(\"thunderstorm with drizzle\")\n",
        "elif(weather_value==232):\n",
        " print(\"thunderstorm with heavy drizzle\")\n",
        "\n",
        "#Group 3xx: Drizzle\n",
        "elif(weather_value==300):\n",
        " print(\"light intensity drizzle\")\n",
        "elif(weather_value==301):\n",
        " print(\"drizzle\")\n",
        "elif(weather_value==302):\n",
        " print(\"heavy intensity drizzle\")\n",
        "elif(weather_value==310):\n",
        " print(\"light intensity drizzle rain\")\n",
        "elif(weather_value==311):\n",
        " print(\"drizzle rain\")\n",
        "elif(weather_value==312):\n",
        " print(\"heavy intensity drizzle rain\")\n",
        "elif(weather_value==313):\n",
        " print(\"shower rain and drizzle\")\n",
        "elif(weather_value==314):\n",
        " print(\"heavy shower rain and drizzle\")\n",
        "elif(weather_value==321):\n",
        " print(\"shower drizzle\")\n",
        "\n",
        " #Group 5xx: Rain\n",
        "elif(weather_value==500):\n",
        " print(\"light rain\")\n",
        "elif(weather_value==501):\n",
        " print(\"moderate rain\")\n",
        "elif(weather_value==502):\n",
        " print(\"heavy intensity rain\")\n",
        "elif(weather_value==503):\n",
        " print(\"very heavy rain\")\n",
        "elif(weather_value==504):\n",
        " print(\"extreme rain\")\n",
        "elif(weather_value==511):\n",
        " print(\"freezing rain\")\n",
        "elif(weather_value==520):\n",
        " print(\"light intensity shower rain\")\n",
        "elif(weather_value==521):\n",
        " print(\"shower rain\")\n",
        "elif(weather_value==522):\n",
        " print(\"heavy intensity shower rain\")\n",
        "elif(weather_value==531):\n",
        " print(\"ragged shower rain\")\n",
        "\n",
        "#Group 6xx: Snow\n",
        "elif(weather_value==600):\n",
        " print(\"light snow\")\n",
        "elif(weather_value==601):\n",
        " print(\"snow\")\n",
        "elif(weather_value==602):\n",
        " print(\"heavy snow\")\n",
        "elif(weather_value==611):\n",
        " print(\"sleet\")\n",
        "elif(weather_value==612):\n",
        " print(\"light shower sleet\")\n",
        "elif(weather_value==613):\n",
        " print(\"shower sleet\")\n",
        "elif(weather_value==615):\n",
        " print(\"light rain and snow\")\n",
        "elif(weather_value==616):\n",
        " print(\"rain and snow\")\n",
        "elif(weather_value==620):\n",
        " print(\"light shower snow\")\n",
        "elif(weather_value==621):\n",
        " print(\"shower snow\")\n",
        "elif(weather_value==622):\n",
        " print(\"heavy shower snow\")\n",
        "\n",
        "#Group 7xx: Atmosphere\n",
        "elif(weather_value==701):\n",
        " print(\"mist\")\n",
        "elif(weather_value==711):\n",
        " print(\"smoke\")\n",
        "elif(weather_value==721):\n",
        " print(\"haze\")\n",
        "elif(weather_value==731):\n",
        " print(\"sand/dust whirls\")\n",
        "elif(weather_value==741):\n",
        " print(\"fog\")\n",
        "elif(weather_value==751):\n",
        " print(\"sand\")\n",
        "elif(weather_value==761):\n",
        " print(\"dust\")\n",
        "elif(weather_value==762):\n",
        " print(\"volcanic ash\")\n",
        "elif(weather_value==771):\n",
        " print(\"squalls\")\n",
        "elif(weather_value==781):\n",
        " print(\"tornado\")\n",
        "\n",
        "#Group 800: Clear\n",
        "elif(weather_value==800):\n",
        "\n",
        " print(\"clear sky\")\n",
        "#Group 80x: Clouds\n",
        "elif(weather_value==801):\n",
        " print(\"few clouds: 11-25%\")\n",
        "elif(weather_value==802):\n",
        " print(\"scattered clouds: 25-50%\")\n",
        "elif(weather_value==803):\n",
        " print(\"broken clouds: 51-84%\")\n",
        "elif(weather_value==804):\n",
        " print(\"overcast clouds: 85-100%\")\n",
        "else:\n",
        "  print(\"invalid\")"
      ],
      "metadata": {
        "colab": {
          "base_uri": "https://localhost:8080/"
        },
        "id": "YnILmSPOqZhe",
        "outputId": "9962c4cb-d4db-41fa-d075-98dd0beec4fe"
      },
      "execution_count": null,
      "outputs": [
        {
          "output_type": "stream",
          "name": "stdout",
          "text": [
            "enter the weather value\n",
            "221\n",
            "ragged thunderstorm\n"
          ]
        }
      ]
    }
  ]
}